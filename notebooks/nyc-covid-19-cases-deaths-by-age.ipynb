{
 "cells": [
  {
   "cell_type": "code",
   "execution_count": 1,
   "metadata": {},
   "outputs": [],
   "source": [
    "import matplotlib.pyplot as plt\n",
    "import pandas as pd"
   ]
  },
  {
   "cell_type": "code",
   "execution_count": 8,
   "metadata": {},
   "outputs": [
    {
     "data": {
      "text/html": [
       "<div>\n",
       "<style scoped>\n",
       "    .dataframe tbody tr th:only-of-type {\n",
       "        vertical-align: middle;\n",
       "    }\n",
       "\n",
       "    .dataframe tbody tr th {\n",
       "        vertical-align: top;\n",
       "    }\n",
       "\n",
       "    .dataframe thead th {\n",
       "        text-align: right;\n",
       "    }\n",
       "</style>\n",
       "<table border=\"1\" class=\"dataframe\">\n",
       "  <thead>\n",
       "    <tr style=\"text-align: right;\">\n",
       "      <th></th>\n",
       "      <th>total_cases</th>\n",
       "      <th>total_hosp</th>\n",
       "      <th>total_deaths</th>\n",
       "    </tr>\n",
       "  </thead>\n",
       "  <tbody>\n",
       "    <tr>\n",
       "      <th>0 to 17</th>\n",
       "      <td>619</td>\n",
       "      <td>67</td>\n",
       "      <td>1</td>\n",
       "    </tr>\n",
       "    <tr>\n",
       "      <th>18 to 44</th>\n",
       "      <td>14233</td>\n",
       "      <td>1459</td>\n",
       "      <td>39</td>\n",
       "    </tr>\n",
       "    <tr>\n",
       "      <th>45 to 64</th>\n",
       "      <td>11577</td>\n",
       "      <td>2765</td>\n",
       "      <td>185</td>\n",
       "    </tr>\n",
       "    <tr>\n",
       "      <th>65 to 74</th>\n",
       "      <td>3954</td>\n",
       "      <td>1499</td>\n",
       "      <td>183</td>\n",
       "    </tr>\n",
       "    <tr>\n",
       "      <th>75 and over</th>\n",
       "      <td>3020</td>\n",
       "      <td>1620</td>\n",
       "      <td>368</td>\n",
       "    </tr>\n",
       "    <tr>\n",
       "      <th>unknown</th>\n",
       "      <td>71</td>\n",
       "      <td>0</td>\n",
       "      <td>0</td>\n",
       "    </tr>\n",
       "  </tbody>\n",
       "</table>\n",
       "</div>"
      ],
      "text/plain": [
       "             total_cases  total_hosp  total_deaths\n",
       "0 to 17              619          67             1\n",
       "18 to 44           14233        1459            39\n",
       "45 to 64           11577        2765           185\n",
       "65 to 74            3954        1499           183\n",
       "75 and over         3020        1620           368\n",
       "unknown               71           0             0"
      ]
     },
     "execution_count": 8,
     "metadata": {},
     "output_type": "execute_result"
    }
   ],
   "source": [
    "# Data as of March 29, 2020 at 4:15 PM\n",
    "\n",
    "age_groups_index = ['0 to 17', '18 to 44', '45 to 64', '65 to 74', '75 and over', 'unknown']\n",
    "\n",
    "age_df = pd.DataFrame(\n",
    "    {\n",
    "        'total_cases':  [619, 14233, 11577, 3954, 3020, 71],\n",
    "        'total_hosp':   [ 67,  1459,  2765, 1499, 1620,  0],\n",
    "        'total_deaths': [  1,    39,   185,  183,  368,  0]\n",
    "    },\n",
    "    index = age_groups_index\n",
    ")\n",
    "\n",
    "age_df"
   ]
  },
  {
   "cell_type": "code",
   "execution_count": 10,
   "metadata": {},
   "outputs": [
    {
     "data": {
      "text/html": [
       "<div>\n",
       "<style scoped>\n",
       "    .dataframe tbody tr th:only-of-type {\n",
       "        vertical-align: middle;\n",
       "    }\n",
       "\n",
       "    .dataframe tbody tr th {\n",
       "        vertical-align: top;\n",
       "    }\n",
       "\n",
       "    .dataframe thead th {\n",
       "        text-align: right;\n",
       "    }\n",
       "</style>\n",
       "<table border=\"1\" class=\"dataframe\">\n",
       "  <thead>\n",
       "    <tr style=\"text-align: right;\">\n",
       "      <th></th>\n",
       "      <th>total_cases</th>\n",
       "      <th>total_hosp</th>\n",
       "      <th>total_deaths</th>\n",
       "    </tr>\n",
       "  </thead>\n",
       "  <tbody>\n",
       "    <tr>\n",
       "      <th>0 to 17</th>\n",
       "      <td>619</td>\n",
       "      <td>67</td>\n",
       "      <td>1</td>\n",
       "    </tr>\n",
       "    <tr>\n",
       "      <th>18 to 44</th>\n",
       "      <td>14233</td>\n",
       "      <td>1459</td>\n",
       "      <td>39</td>\n",
       "    </tr>\n",
       "    <tr>\n",
       "      <th>45 to 64</th>\n",
       "      <td>11577</td>\n",
       "      <td>2765</td>\n",
       "      <td>185</td>\n",
       "    </tr>\n",
       "    <tr>\n",
       "      <th>65 to 74</th>\n",
       "      <td>3954</td>\n",
       "      <td>1499</td>\n",
       "      <td>183</td>\n",
       "    </tr>\n",
       "    <tr>\n",
       "      <th>75 and over</th>\n",
       "      <td>3020</td>\n",
       "      <td>1620</td>\n",
       "      <td>368</td>\n",
       "    </tr>\n",
       "  </tbody>\n",
       "</table>\n",
       "</div>"
      ],
      "text/plain": [
       "             total_cases  total_hosp  total_deaths\n",
       "0 to 17              619          67             1\n",
       "18 to 44           14233        1459            39\n",
       "45 to 64           11577        2765           185\n",
       "65 to 74            3954        1499           183\n",
       "75 and over         3020        1620           368"
      ]
     },
     "execution_count": 10,
     "metadata": {},
     "output_type": "execute_result"
    }
   ],
   "source": [
    "# Drop 'unknown' row\n",
    "age_df.drop('unknown', inplace=True)\n",
    "age_df"
   ]
  },
  {
   "cell_type": "code",
   "execution_count": 17,
   "metadata": {},
   "outputs": [
    {
     "data": {
      "text/html": [
       "<div>\n",
       "<style scoped>\n",
       "    .dataframe tbody tr th:only-of-type {\n",
       "        vertical-align: middle;\n",
       "    }\n",
       "\n",
       "    .dataframe tbody tr th {\n",
       "        vertical-align: top;\n",
       "    }\n",
       "\n",
       "    .dataframe thead th {\n",
       "        text-align: right;\n",
       "    }\n",
       "</style>\n",
       "<table border=\"1\" class=\"dataframe\">\n",
       "  <thead>\n",
       "    <tr style=\"text-align: right;\">\n",
       "      <th></th>\n",
       "      <th>total_cases</th>\n",
       "      <th>total_hosp</th>\n",
       "      <th>total_deaths</th>\n",
       "      <th>total_cases_pct</th>\n",
       "      <th>total_hosp_pct</th>\n",
       "      <th>total_deaths_pct</th>\n",
       "    </tr>\n",
       "  </thead>\n",
       "  <tbody>\n",
       "    <tr>\n",
       "      <th>0 to 17</th>\n",
       "      <td>619</td>\n",
       "      <td>67</td>\n",
       "      <td>1</td>\n",
       "      <td>2</td>\n",
       "      <td>1</td>\n",
       "      <td>0</td>\n",
       "    </tr>\n",
       "    <tr>\n",
       "      <th>18 to 44</th>\n",
       "      <td>14233</td>\n",
       "      <td>1459</td>\n",
       "      <td>39</td>\n",
       "      <td>43</td>\n",
       "      <td>20</td>\n",
       "      <td>5</td>\n",
       "    </tr>\n",
       "    <tr>\n",
       "      <th>45 to 64</th>\n",
       "      <td>11577</td>\n",
       "      <td>2765</td>\n",
       "      <td>185</td>\n",
       "      <td>35</td>\n",
       "      <td>37</td>\n",
       "      <td>24</td>\n",
       "    </tr>\n",
       "    <tr>\n",
       "      <th>65 to 74</th>\n",
       "      <td>3954</td>\n",
       "      <td>1499</td>\n",
       "      <td>183</td>\n",
       "      <td>12</td>\n",
       "      <td>20</td>\n",
       "      <td>24</td>\n",
       "    </tr>\n",
       "    <tr>\n",
       "      <th>75 and over</th>\n",
       "      <td>3020</td>\n",
       "      <td>1620</td>\n",
       "      <td>368</td>\n",
       "      <td>9</td>\n",
       "      <td>22</td>\n",
       "      <td>47</td>\n",
       "    </tr>\n",
       "  </tbody>\n",
       "</table>\n",
       "</div>"
      ],
      "text/plain": [
       "             total_cases  total_hosp  total_deaths  total_cases_pct  \\\n",
       "0 to 17              619          67             1                2   \n",
       "18 to 44           14233        1459            39               43   \n",
       "45 to 64           11577        2765           185               35   \n",
       "65 to 74            3954        1499           183               12   \n",
       "75 and over         3020        1620           368                9   \n",
       "\n",
       "             total_hosp_pct  total_deaths_pct  \n",
       "0 to 17                   1                 0  \n",
       "18 to 44                 20                 5  \n",
       "45 to 64                 37                24  \n",
       "65 to 74                 20                24  \n",
       "75 and over              22                47  "
      ]
     },
     "execution_count": 17,
     "metadata": {},
     "output_type": "execute_result"
    }
   ],
   "source": [
    "# Create percentage columns\n",
    "\n",
    "def pct(counts):\n",
    "    return [int(round(x, 0)) for x in 100 * counts / sum(counts)]\n",
    "\n",
    "age_df['total_cases_pct'] = pct(age_df['total_cases'])\n",
    "age_df['total_hosp_pct'] = pct(age_df['total_hosp'])\n",
    "age_df['total_deaths_pct'] = pct(age_df['total_deaths'])\n",
    "\n",
    "age_df"
   ]
  },
  {
   "cell_type": "code",
   "execution_count": 21,
   "metadata": {},
   "outputs": [
    {
     "data": {
      "image/png": "[encoded data removed]",
      "text/plain": [
       "<Figure size 432x288 with 1 Axes>"
      ]
     },
     "metadata": {
      "needs_background": "light"
     },
     "output_type": "display_data"
    }
   ],
   "source": [
    "cols = ['total_cases_pct', 'total_hosp_pct', 'total_deaths_pct']\n",
    "\n",
    "age_df[cols].plot.bar()\n",
    "\n",
    "plt.show()"
   ]
  },
  {
   "cell_type": "code",
   "execution_count": null,
   "metadata": {},
   "outputs": [],
   "source": []
  }
 ],
 "metadata": {
  "kernelspec": {
   "display_name": "Python 3",
   "language": "python",
   "name": "python3"
  },
  "language_info": {
   "codemirror_mode": {
    "name": "ipython",
    "version": 3
   },
   "file_extension": ".py",
   "mimetype": "text/x-python",
   "name": "python",
   "nbconvert_exporter": "python",
   "pygments_lexer": "ipython3",
   "version": "3.7.6"
  }
 },
 "nbformat": 4,
 "nbformat_minor": 4
}

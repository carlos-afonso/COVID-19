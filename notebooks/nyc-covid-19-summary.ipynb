{
 "cells": [
  {
   "cell_type": "markdown",
   "metadata": {},
   "source": [
    "# NYC COVID-19 summary"
   ]
  },
  {
   "cell_type": "markdown",
   "metadata": {},
   "source": [
    "## 0. Import Dependencies"
   ]
  },
  {
   "cell_type": "code",
   "execution_count": 1,
   "metadata": {},
   "outputs": [],
   "source": [
    "import matplotlib.pyplot as plt\n",
    "import pandas as pd"
   ]
  },
  {
   "cell_type": "markdown",
   "metadata": {},
   "source": [
    "## 1. Read Data"
   ]
  },
  {
   "cell_type": "code",
   "execution_count": 3,
   "metadata": {},
   "outputs": [
    {
     "data": {
      "text/html": [
       "<div>\n",
       "<style scoped>\n",
       "    .dataframe tbody tr th:only-of-type {\n",
       "        vertical-align: middle;\n",
       "    }\n",
       "\n",
       "    .dataframe tbody tr th {\n",
       "        vertical-align: top;\n",
       "    }\n",
       "\n",
       "    .dataframe thead th {\n",
       "        text-align: right;\n",
       "    }\n",
       "</style>\n",
       "<table border=\"1\" class=\"dataframe\">\n",
       "  <thead>\n",
       "    <tr style=\"text-align: right;\">\n",
       "      <th></th>\n",
       "      <th>date</th>\n",
       "      <th>total_cases</th>\n",
       "      <th>age_median</th>\n",
       "      <th>age_min</th>\n",
       "      <th>age_max</th>\n",
       "      <th>age_0_to_4</th>\n",
       "      <th>age_5_to_17</th>\n",
       "      <th>age_18_to_49</th>\n",
       "      <th>age_50_to_64</th>\n",
       "      <th>age_65_and_over</th>\n",
       "      <th>...</th>\n",
       "      <th>sex_female</th>\n",
       "      <th>sex_male</th>\n",
       "      <th>sex_unknown</th>\n",
       "      <th>borough_bronx</th>\n",
       "      <th>borough_brooklyn</th>\n",
       "      <th>borough_manhattan</th>\n",
       "      <th>borough_queens</th>\n",
       "      <th>borough_staten_island</th>\n",
       "      <th>borough_unknown</th>\n",
       "      <th>deaths</th>\n",
       "    </tr>\n",
       "  </thead>\n",
       "  <tbody>\n",
       "    <tr>\n",
       "      <th>0</th>\n",
       "      <td>2020-03-17</td>\n",
       "      <td>923</td>\n",
       "      <td>NaN</td>\n",
       "      <td>NaN</td>\n",
       "      <td>NaN</td>\n",
       "      <td>0</td>\n",
       "      <td>25</td>\n",
       "      <td>457</td>\n",
       "      <td>211</td>\n",
       "      <td>230</td>\n",
       "      <td>...</td>\n",
       "      <td>378</td>\n",
       "      <td>536</td>\n",
       "      <td>NaN</td>\n",
       "      <td>106</td>\n",
       "      <td>236</td>\n",
       "      <td>290</td>\n",
       "      <td>248</td>\n",
       "      <td>42</td>\n",
       "      <td>1</td>\n",
       "      <td>10</td>\n",
       "    </tr>\n",
       "    <tr>\n",
       "      <th>1</th>\n",
       "      <td>2020-03-18</td>\n",
       "      <td>2009</td>\n",
       "      <td>NaN</td>\n",
       "      <td>NaN</td>\n",
       "      <td>NaN</td>\n",
       "      <td>5</td>\n",
       "      <td>42</td>\n",
       "      <td>1034</td>\n",
       "      <td>463</td>\n",
       "      <td>464</td>\n",
       "      <td>...</td>\n",
       "      <td>850</td>\n",
       "      <td>1155</td>\n",
       "      <td>4.0</td>\n",
       "      <td>303</td>\n",
       "      <td>505</td>\n",
       "      <td>590</td>\n",
       "      <td>533</td>\n",
       "      <td>77</td>\n",
       "      <td>1</td>\n",
       "      <td>19</td>\n",
       "    </tr>\n",
       "    <tr>\n",
       "      <th>2</th>\n",
       "      <td>2020-03-19</td>\n",
       "      <td>3954</td>\n",
       "      <td>NaN</td>\n",
       "      <td>NaN</td>\n",
       "      <td>NaN</td>\n",
       "      <td>14</td>\n",
       "      <td>94</td>\n",
       "      <td>2117</td>\n",
       "      <td>926</td>\n",
       "      <td>800</td>\n",
       "      <td>...</td>\n",
       "      <td>1630</td>\n",
       "      <td>2315</td>\n",
       "      <td>9.0</td>\n",
       "      <td>496</td>\n",
       "      <td>1195</td>\n",
       "      <td>1038</td>\n",
       "      <td>1042</td>\n",
       "      <td>179</td>\n",
       "      <td>4</td>\n",
       "      <td>26</td>\n",
       "    </tr>\n",
       "    <tr>\n",
       "      <th>3</th>\n",
       "      <td>2020-03-20</td>\n",
       "      <td>5683</td>\n",
       "      <td>45.0</td>\n",
       "      <td>0.0</td>\n",
       "      <td>105.0</td>\n",
       "      <td>26</td>\n",
       "      <td>131</td>\n",
       "      <td>3080</td>\n",
       "      <td>1330</td>\n",
       "      <td>1112</td>\n",
       "      <td>...</td>\n",
       "      <td>2317</td>\n",
       "      <td>3355</td>\n",
       "      <td>11.0</td>\n",
       "      <td>736</td>\n",
       "      <td>1740</td>\n",
       "      <td>1402</td>\n",
       "      <td>1514</td>\n",
       "      <td>285</td>\n",
       "      <td>6</td>\n",
       "      <td>43</td>\n",
       "    </tr>\n",
       "    <tr>\n",
       "      <th>4</th>\n",
       "      <td>2020-03-21</td>\n",
       "      <td>8115</td>\n",
       "      <td>45.0</td>\n",
       "      <td>0.0</td>\n",
       "      <td>105.0</td>\n",
       "      <td>34</td>\n",
       "      <td>189</td>\n",
       "      <td>4456</td>\n",
       "      <td>1929</td>\n",
       "      <td>1502</td>\n",
       "      <td>...</td>\n",
       "      <td>3318</td>\n",
       "      <td>4787</td>\n",
       "      <td>10.0</td>\n",
       "      <td>1071</td>\n",
       "      <td>2484</td>\n",
       "      <td>1863</td>\n",
       "      <td>2254</td>\n",
       "      <td>437</td>\n",
       "      <td>6</td>\n",
       "      <td>60</td>\n",
       "    </tr>\n",
       "  </tbody>\n",
       "</table>\n",
       "<p>5 rows × 23 columns</p>\n",
       "</div>"
      ],
      "text/plain": [
       "         date  total_cases  age_median  age_min  age_max  age_0_to_4  \\\n",
       "0  2020-03-17          923         NaN      NaN      NaN           0   \n",
       "1  2020-03-18         2009         NaN      NaN      NaN           5   \n",
       "2  2020-03-19         3954         NaN      NaN      NaN          14   \n",
       "3  2020-03-20         5683        45.0      0.0    105.0          26   \n",
       "4  2020-03-21         8115        45.0      0.0    105.0          34   \n",
       "\n",
       "   age_5_to_17  age_18_to_49  age_50_to_64  age_65_and_over  ...  sex_female  \\\n",
       "0           25           457           211              230  ...         378   \n",
       "1           42          1034           463              464  ...         850   \n",
       "2           94          2117           926              800  ...        1630   \n",
       "3          131          3080          1330             1112  ...        2317   \n",
       "4          189          4456          1929             1502  ...        3318   \n",
       "\n",
       "   sex_male  sex_unknown  borough_bronx  borough_brooklyn  borough_manhattan  \\\n",
       "0       536          NaN            106               236                290   \n",
       "1      1155          4.0            303               505                590   \n",
       "2      2315          9.0            496              1195               1038   \n",
       "3      3355         11.0            736              1740               1402   \n",
       "4      4787         10.0           1071              2484               1863   \n",
       "\n",
       "   borough_queens  borough_staten_island  borough_unknown  deaths  \n",
       "0             248                     42                1      10  \n",
       "1             533                     77                1      19  \n",
       "2            1042                    179                4      26  \n",
       "3            1514                    285                6      43  \n",
       "4            2254                    437                6      60  \n",
       "\n",
       "[5 rows x 23 columns]"
      ]
     },
     "execution_count": 3,
     "metadata": {},
     "output_type": "execute_result"
    }
   ],
   "source": [
    "data_file = '../data/nyc-health-daily-data-summary/nyc-covid-19-summary.csv'\n",
    "df = pd.read_csv(data_file)\n",
    "df"
   ]
  },
  {
   "cell_type": "markdown",
   "metadata": {},
   "source": [
    "## 2. Cases by Age Group"
   ]
  },
  {
   "cell_type": "code",
   "execution_count": 6,
   "metadata": {},
   "outputs": [
    {
     "data": {
      "text/plain": [
       "Index(['date', 'total_cases', 'age_median', 'age_min', 'age_max', 'age_0_to_4',\n",
       "       'age_5_to_17', 'age_18_to_49', 'age_50_to_64', 'age_65_and_over',\n",
       "       'age_unknown', 'age_50_and_over', 'age_under_50', 'sex_female',\n",
       "       'sex_male', 'sex_unknown', 'borough_bronx', 'borough_brooklyn',\n",
       "       'borough_manhattan', 'borough_queens', 'borough_staten_island',\n",
       "       'borough_unknown', 'deaths'],\n",
       "      dtype='object')"
      ]
     },
     "execution_count": 6,
     "metadata": {},
     "output_type": "execute_result"
    }
   ],
   "source": [
    "df.columns"
   ]
  },
  {
   "cell_type": "code",
   "execution_count": 81,
   "metadata": {},
   "outputs": [
    {
     "data": {
      "text/plain": [
       "array([   5,   34,  189, 4456, 1929, 1502])"
      ]
     },
     "execution_count": 81,
     "metadata": {},
     "output_type": "execute_result"
    }
   ],
   "source": [
    "values.astype(int)"
   ]
  },
  {
   "cell_type": "code",
   "execution_count": 107,
   "metadata": {},
   "outputs": [
    {
     "data": {
      "image/png": "[encoded data removed]",
      "text/plain": [
       "<Figure size 432x288 with 1 Axes>"
      ]
     },
     "metadata": {
      "needs_background": "light"
     },
     "output_type": "display_data"
    }
   ],
   "source": [
    "fig = plt.figure()\n",
    "\n",
    "cols = ['age_unknown', 'age_0_to_4', 'age_5_to_17', 'age_18_to_49', 'age_50_to_64', 'age_65_and_over']\n",
    "labels = [x.replace('_', ' ').capitalize() for x in cols]\n",
    "values = df.iloc[-1][cols].values.astype(int)\n",
    "total = sum(values)\n",
    "\n",
    "plt.barh(labels, values, alpha=0.5)\n",
    "\n",
    "plt.xlim(0, 5600)\n",
    "\n",
    "for xy in zip(values, range(len(values))):\n",
    "    note = str(xy[0]) + ' (' + str(int(round(100 * xy[0] / total, 0))) + '%)'\n",
    "    plt.annotate(note, xy=xy, xytext=(3, 0), textcoords='offset points', ha='left', va='center', color='gray')\n",
    "\n",
    "plt.gca().invert_yaxis()\n",
    "\n",
    "#plt.suptitle('NYC\\'s COVID-19 cases by age group', x=0.6, fontweight='bold') #fontsize=14\n",
    "plt.suptitle('COVID-19 cases by age group in New York City', x=0.6, fontweight='bold')\n",
    "plt.title('as reported by NYC Health on March 21, 2020, 5:30pm', fontsize=11)\n",
    "\n",
    "text = 'Sources: nyc.gov/coronavirus & carlos-afonso.github.io/COVID-19'\n",
    "plt.text(-700, 7, text, fontfamily='Consolas')\n",
    "\n",
    "plt.tight_layout(rect=[0, 0, 1, 0.95])\n",
    "plt.show()"
   ]
  },
  {
   "cell_type": "code",
   "execution_count": 108,
   "metadata": {},
   "outputs": [],
   "source": [
    "# Save figure as SVG and PNG images\n",
    "file_path = '../images/nyc-covid-19-cases-by-age-group'\n",
    "fig.savefig(file_path + '.svg')\n",
    "fig.savefig(file_path + '.png', dpi=200)"
   ]
  },
  {
   "cell_type": "code",
   "execution_count": null,
   "metadata": {},
   "outputs": [],
   "source": []
  }
 ],
 "metadata": {
  "kernelspec": {
   "display_name": "Python 3",
   "language": "python",
   "name": "python3"
  },
  "language_info": {
   "codemirror_mode": {
    "name": "ipython",
    "version": 3
   },
   "file_extension": ".py",
   "mimetype": "text/x-python",
   "name": "python",
   "nbconvert_exporter": "python",
   "pygments_lexer": "ipython3",
   "version": "3.7.6"
  },
  "toc-autonumbering": false
 },
 "nbformat": 4,
 "nbformat_minor": 4
}

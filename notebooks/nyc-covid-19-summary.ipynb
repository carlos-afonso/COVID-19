{
 "cells": [
  {
   "cell_type": "markdown",
   "metadata": {},
   "source": [
    "# NYC COVID-19 Summary\n",
    "\n",
    "Source: [NYC Health COVID-19 data webpage](https://www1.nyc.gov/site/doh/covid/covid-19-data.page)"
   ]
  },
  {
   "cell_type": "code",
   "execution_count": 9,
   "metadata": {},
   "outputs": [],
   "source": [
    "from datetime import datetime\n",
    "import numpy as np\n",
    "import pandas as pd"
   ]
  },
  {
   "cell_type": "code",
   "execution_count": 10,
   "metadata": {},
   "outputs": [
    {
     "data": {
      "text/html": [
       "<div>\n",
       "<style scoped>\n",
       "    .dataframe tbody tr th:only-of-type {\n",
       "        vertical-align: middle;\n",
       "    }\n",
       "\n",
       "    .dataframe tbody tr th {\n",
       "        vertical-align: top;\n",
       "    }\n",
       "\n",
       "    .dataframe thead th {\n",
       "        text-align: right;\n",
       "    }\n",
       "</style>\n",
       "<table border=\"1\" class=\"dataframe\">\n",
       "  <thead>\n",
       "    <tr style=\"text-align: right;\">\n",
       "      <th></th>\n",
       "      <th>datetime</th>\n",
       "      <th>total_tests</th>\n",
       "      <th>total_cases</th>\n",
       "      <th>total_hosp</th>\n",
       "      <th>total_deaths</th>\n",
       "    </tr>\n",
       "  </thead>\n",
       "  <tbody>\n",
       "    <tr>\n",
       "      <th>0</th>\n",
       "      <td>2020-04-06 17:00:00</td>\n",
       "      <td>NaN</td>\n",
       "      <td>68776</td>\n",
       "      <td>15333</td>\n",
       "      <td>2738</td>\n",
       "    </tr>\n",
       "    <tr>\n",
       "      <th>1</th>\n",
       "      <td>2020-04-07 17:00:00</td>\n",
       "      <td>127788.0</td>\n",
       "      <td>74601</td>\n",
       "      <td>19177</td>\n",
       "      <td>3544</td>\n",
       "    </tr>\n",
       "  </tbody>\n",
       "</table>\n",
       "</div>"
      ],
      "text/plain": [
       "             datetime  total_tests  total_cases  total_hosp  total_deaths\n",
       "0 2020-04-06 17:00:00          NaN        68776       15333          2738\n",
       "1 2020-04-07 17:00:00     127788.0        74601       19177          3544"
      ]
     },
     "execution_count": 10,
     "metadata": {},
     "output_type": "execute_result"
    }
   ],
   "source": [
    "# Note: 'total_hosp' are the (estimated) total hospitalizations\n",
    "\n",
    "df = pd.DataFrame([\n",
    "    {'datetime': datetime(2020, 4, 6, 17, 0), 'total_tests': np.nan, 'total_cases': 68776, 'total_hosp': 15333, 'total_deaths': 2738},\n",
    "    {'datetime': datetime(2020, 4, 7, 17, 0), 'total_tests': 127788, 'total_cases': 74601, 'total_hosp': 19177, 'total_deaths': 3544}\n",
    "])\n",
    "\n",
    "df"
   ]
  },
  {
   "cell_type": "code",
   "execution_count": 32,
   "metadata": {},
   "outputs": [
    {
     "name": "stdout",
     "output_type": "stream",
     "text": [
      "*** Latest numbers ***\n",
      "Date-Time             : 2020-04-07 17:00:00\n",
      "Total Tests           : 127788.0\n",
      "Total Cases           : 74601 = 58.4 % of Total Tests\n",
      "Total Hospitalizations: 19177 = 25.7 % of Total Cases\n",
      "Total Deaths          : 3544 = 4.8 % of Total Cases\n"
     ]
    }
   ],
   "source": [
    "latest = df.iloc[-1]\n",
    "\n",
    "print('*** Latest numbers ***')\n",
    "print('Date-Time             :', latest['datetime'])\n",
    "print('Total Tests           :', latest['total_tests'])\n",
    "print('Total Cases           :', latest['total_cases'], '=', round(100*latest['total_cases']/latest['total_tests'], 1), '% of Total Tests')\n",
    "print('Total Hospitalizations:', latest['total_hosp'], '=', round(100*latest['total_hosp']/latest['total_cases'], 1), '% of Total Cases')\n",
    "print('Total Deaths          :', latest['total_deaths'], '=', round(100*latest['total_deaths']/latest['total_cases'], 1), '% of Total Cases')"
   ]
  },
  {
   "cell_type": "code",
   "execution_count": null,
   "metadata": {},
   "outputs": [],
   "source": []
  }
 ],
 "metadata": {
  "kernelspec": {
   "display_name": "Python 3",
   "language": "python",
   "name": "python3"
  },
  "language_info": {
   "codemirror_mode": {
    "name": "ipython",
    "version": 3
   },
   "file_extension": ".py",
   "mimetype": "text/x-python",
   "name": "python",
   "nbconvert_exporter": "python",
   "pygments_lexer": "ipython3",
   "version": "3.7.6"
  }
 },
 "nbformat": 4,
 "nbformat_minor": 4
}

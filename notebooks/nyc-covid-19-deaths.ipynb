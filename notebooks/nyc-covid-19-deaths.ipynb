{
 "cells": [
  {
   "cell_type": "markdown",
   "metadata": {},
   "source": [
    "# NYC's COVID-19 deaths\n",
    "\n",
    "**Data source:** New York City Health Department's [COVID-19 Daily Data Summary - Deaths](https://www1.nyc.gov/assets/doh/downloads/pdf/imm/covid-19-daily-data-summary-deaths.pdf)"
   ]
  },
  {
   "cell_type": "markdown",
   "metadata": {},
   "source": [
    "## 0. Import dependencies"
   ]
  },
  {
   "cell_type": "code",
   "execution_count": 1,
   "metadata": {},
   "outputs": [],
   "source": [
    "import matplotlib.pyplot as plt\n",
    "import pandas as pd"
   ]
  },
  {
   "cell_type": "markdown",
   "metadata": {},
   "source": [
    "## 1. Read data"
   ]
  },
  {
   "cell_type": "code",
   "execution_count": 5,
   "metadata": {},
   "outputs": [
    {
     "data": {
      "text/html": [
       "<div>\n",
       "<style scoped>\n",
       "    .dataframe tbody tr th:only-of-type {\n",
       "        vertical-align: middle;\n",
       "    }\n",
       "\n",
       "    .dataframe tbody tr th {\n",
       "        vertical-align: top;\n",
       "    }\n",
       "\n",
       "    .dataframe thead th {\n",
       "        text-align: right;\n",
       "    }\n",
       "</style>\n",
       "<table border=\"1\" class=\"dataframe\">\n",
       "  <thead>\n",
       "    <tr style=\"text-align: right;\">\n",
       "      <th></th>\n",
       "      <th>uc_yes</th>\n",
       "      <th>uc_no</th>\n",
       "      <th>uc_pending</th>\n",
       "      <th>total</th>\n",
       "    </tr>\n",
       "    <tr>\n",
       "      <th>index</th>\n",
       "      <th></th>\n",
       "      <th></th>\n",
       "      <th></th>\n",
       "      <th></th>\n",
       "    </tr>\n",
       "  </thead>\n",
       "  <tbody>\n",
       "    <tr>\n",
       "      <th>age_0_to_17</th>\n",
       "      <td>0</td>\n",
       "      <td>0</td>\n",
       "      <td>0</td>\n",
       "      <td>0</td>\n",
       "    </tr>\n",
       "    <tr>\n",
       "      <th>age_18_to_44</th>\n",
       "      <td>23</td>\n",
       "      <td>1</td>\n",
       "      <td>8</td>\n",
       "      <td>32</td>\n",
       "    </tr>\n",
       "    <tr>\n",
       "      <th>age_45_to_64</th>\n",
       "      <td>125</td>\n",
       "      <td>8</td>\n",
       "      <td>28</td>\n",
       "      <td>161</td>\n",
       "    </tr>\n",
       "    <tr>\n",
       "      <th>age_65_to_74</th>\n",
       "      <td>125</td>\n",
       "      <td>2</td>\n",
       "      <td>31</td>\n",
       "      <td>158</td>\n",
       "    </tr>\n",
       "    <tr>\n",
       "      <th>age_75_and_over</th>\n",
       "      <td>254</td>\n",
       "      <td>6</td>\n",
       "      <td>61</td>\n",
       "      <td>321</td>\n",
       "    </tr>\n",
       "    <tr>\n",
       "      <th>sex_female</th>\n",
       "      <td>213</td>\n",
       "      <td>6</td>\n",
       "      <td>42</td>\n",
       "      <td>261</td>\n",
       "    </tr>\n",
       "    <tr>\n",
       "      <th>sex_male</th>\n",
       "      <td>314</td>\n",
       "      <td>11</td>\n",
       "      <td>86</td>\n",
       "      <td>411</td>\n",
       "    </tr>\n",
       "    <tr>\n",
       "      <th>borough_bronx</th>\n",
       "      <td>142</td>\n",
       "      <td>1</td>\n",
       "      <td>9</td>\n",
       "      <td>152</td>\n",
       "    </tr>\n",
       "    <tr>\n",
       "      <th>borough_brooklyn</th>\n",
       "      <td>112</td>\n",
       "      <td>5</td>\n",
       "      <td>50</td>\n",
       "      <td>167</td>\n",
       "    </tr>\n",
       "    <tr>\n",
       "      <th>borough_manhattan</th>\n",
       "      <td>71</td>\n",
       "      <td>2</td>\n",
       "      <td>20</td>\n",
       "      <td>93</td>\n",
       "    </tr>\n",
       "    <tr>\n",
       "      <th>borough_queens</th>\n",
       "      <td>168</td>\n",
       "      <td>9</td>\n",
       "      <td>39</td>\n",
       "      <td>216</td>\n",
       "    </tr>\n",
       "    <tr>\n",
       "      <th>borough_staten_island</th>\n",
       "      <td>33</td>\n",
       "      <td>0</td>\n",
       "      <td>10</td>\n",
       "      <td>43</td>\n",
       "    </tr>\n",
       "    <tr>\n",
       "      <th>borough_unknown</th>\n",
       "      <td>1</td>\n",
       "      <td>0</td>\n",
       "      <td>0</td>\n",
       "      <td>1</td>\n",
       "    </tr>\n",
       "    <tr>\n",
       "      <th>total</th>\n",
       "      <td>527</td>\n",
       "      <td>17</td>\n",
       "      <td>128</td>\n",
       "      <td>672</td>\n",
       "    </tr>\n",
       "  </tbody>\n",
       "</table>\n",
       "</div>"
      ],
      "text/plain": [
       "                       uc_yes  uc_no  uc_pending  total\n",
       "index                                                  \n",
       "age_0_to_17                 0      0           0      0\n",
       "age_18_to_44               23      1           8     32\n",
       "age_45_to_64              125      8          28    161\n",
       "age_65_to_74              125      2          31    158\n",
       "age_75_and_over           254      6          61    321\n",
       "sex_female                213      6          42    261\n",
       "sex_male                  314     11          86    411\n",
       "borough_bronx             142      1           9    152\n",
       "borough_brooklyn          112      5          50    167\n",
       "borough_manhattan          71      2          20     93\n",
       "borough_queens            168      9          39    216\n",
       "borough_staten_island      33      0          10     43\n",
       "borough_unknown             1      0           0      1\n",
       "total                     527     17         128    672"
      ]
     },
     "execution_count": 5,
     "metadata": {},
     "output_type": "execute_result"
    }
   ],
   "source": [
    "#update_str = 'as of March 28, 2020, 4:00 pm (NYC Health)'\n",
    "update_str = 'as of March 28, 2020, 4:00 pm'\n",
    "source_str = 'Sources: Data: nyc.gov/coronavirus - Plot: carlos-afonso.github.io/COVID-19'\n",
    "\n",
    "file = '../data/nyc-health-daily-updates/deaths/nyc-covid-19-deaths_2020-03-28_16-00.csv'\n",
    "df = pd.read_csv(file)\n",
    "df.set_index('index', inplace=True)\n",
    "df"
   ]
  },
  {
   "cell_type": "markdown",
   "metadata": {},
   "source": [
    "## 2. Total deaths by age group"
   ]
  },
  {
   "cell_type": "code",
   "execution_count": 6,
   "metadata": {},
   "outputs": [
    {
     "data": {
      "image/png": "[encoded data removed]",
      "text/plain": [
       "<Figure size 432x288 with 1 Axes>"
      ]
     },
     "metadata": {
      "needs_background": "light"
     },
     "output_type": "display_data"
    }
   ],
   "source": [
    "fig = plt.figure()\n",
    "\n",
    "rows   = ['age_0_to_17', 'age_18_to_44', 'age_45_to_64', 'age_65_to_74', 'age_75_and_over']\n",
    "labels = ['Age 0 to 17',     '18 to 44',     '45 to 64',     '65 to 74',     '75 and over']\n",
    "values = df.loc[rows]['total'].values\n",
    "total = sum(values)\n",
    "\n",
    "plt.bar(labels, values, alpha=0.5, color='red')\n",
    "\n",
    "plt.ylim(0, 400)\n",
    "plt.yticks([0, 100, 200, 300, 400])\n",
    "\n",
    "for xy in zip(range(len(values)), values):\n",
    "    note = '{:,}'.format(xy[1]) + '\\n(' + str(int(round(100 * xy[1] / total, 0))) + '%)'\n",
    "    plt.annotate(note, xy=xy, xytext=(0, 15), textcoords='offset points', ha='center', va='center') #color='dimgray'\n",
    "\n",
    "plt.suptitle('NYC\\'s COVID-19 total deaths by age group', x=0.5, fontweight='bold')\n",
    "plt.title(str(total) + ' total deaths ' + update_str, fontsize=11)\n",
    "\n",
    "plt.text(-0.9, -90, source_str, fontfamily='Consolas', fontsize=9)\n",
    "\n",
    "plt.tight_layout(rect=[0, 0, 1, 0.95])\n",
    "plt.show()"
   ]
  },
  {
   "cell_type": "code",
   "execution_count": 7,
   "metadata": {},
   "outputs": [],
   "source": [
    "# Save figure as SVG and PNG images\n",
    "file_path = '../images/nyc-covid-19-deaths-by-age-group'\n",
    "fig.savefig(file_path + '.svg')\n",
    "fig.savefig(file_path + '.png', dpi=200)"
   ]
  },
  {
   "cell_type": "code",
   "execution_count": null,
   "metadata": {},
   "outputs": [],
   "source": []
  }
 ],
 "metadata": {
  "kernelspec": {
   "display_name": "Python 3",
   "language": "python",
   "name": "python3"
  },
  "language_info": {
   "codemirror_mode": {
    "name": "ipython",
    "version": 3
   },
   "file_extension": ".py",
   "mimetype": "text/x-python",
   "name": "python",
   "nbconvert_exporter": "python",
   "pygments_lexer": "ipython3",
   "version": "3.7.6"
  }
 },
 "nbformat": 4,
 "nbformat_minor": 4
}

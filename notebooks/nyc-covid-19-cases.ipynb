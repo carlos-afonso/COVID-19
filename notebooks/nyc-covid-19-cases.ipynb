{
 "cells": [
  {
   "cell_type": "markdown",
   "metadata": {},
   "source": [
    "# NYC COVID-19 cases\n",
    "\n",
    "**Data source:** New York City Health Department's [COVID-19 Daily Data Summary](https://www1.nyc.gov/assets/doh/downloads/pdf/imm/covid-19-daily-data-summary.pdf)"
   ]
  },
  {
   "cell_type": "markdown",
   "metadata": {},
   "source": [
    "## 0. Import dependencies"
   ]
  },
  {
   "cell_type": "code",
   "execution_count": 2,
   "metadata": {},
   "outputs": [],
   "source": [
    "import matplotlib.pyplot as plt\n",
    "from matplotlib.ticker import FuncFormatter\n",
    "import pandas as pd"
   ]
  },
  {
   "cell_type": "markdown",
   "metadata": {},
   "source": [
    "## 1. Read data"
   ]
  },
  {
   "cell_type": "code",
   "execution_count": 3,
   "metadata": {},
   "outputs": [
    {
     "data": {
      "text/html": [
       "<div>\n",
       "<style scoped>\n",
       "    .dataframe tbody tr th:only-of-type {\n",
       "        vertical-align: middle;\n",
       "    }\n",
       "\n",
       "    .dataframe tbody tr th {\n",
       "        vertical-align: top;\n",
       "    }\n",
       "\n",
       "    .dataframe thead th {\n",
       "        text-align: right;\n",
       "    }\n",
       "</style>\n",
       "<table border=\"1\" class=\"dataframe\">\n",
       "  <thead>\n",
       "    <tr style=\"text-align: right;\">\n",
       "      <th></th>\n",
       "      <th>date</th>\n",
       "      <th>time</th>\n",
       "      <th>total_cases</th>\n",
       "      <th>age_median</th>\n",
       "      <th>age_min</th>\n",
       "      <th>age_max</th>\n",
       "      <th>age_0_to_17</th>\n",
       "      <th>age_18_to_44</th>\n",
       "      <th>age_45_to_64</th>\n",
       "      <th>age_65_to_74</th>\n",
       "      <th>...</th>\n",
       "      <th>sex_female</th>\n",
       "      <th>sex_male</th>\n",
       "      <th>sex_unknown</th>\n",
       "      <th>borough_bronx</th>\n",
       "      <th>borough_brooklyn</th>\n",
       "      <th>borough_manhattan</th>\n",
       "      <th>borough_queens</th>\n",
       "      <th>borough_staten_island</th>\n",
       "      <th>borough_unknown</th>\n",
       "      <th>deaths</th>\n",
       "    </tr>\n",
       "  </thead>\n",
       "  <tbody>\n",
       "    <tr>\n",
       "      <th>0</th>\n",
       "      <td>2020-03-23</td>\n",
       "      <td>09:35</td>\n",
       "      <td>12339</td>\n",
       "      <td>45</td>\n",
       "      <td>0</td>\n",
       "      <td>105</td>\n",
       "      <td>323</td>\n",
       "      <td>5704</td>\n",
       "      <td>4069</td>\n",
       "      <td>1308</td>\n",
       "      <td>...</td>\n",
       "      <td>5255</td>\n",
       "      <td>7067</td>\n",
       "      <td>17</td>\n",
       "      <td>1829</td>\n",
       "      <td>3494</td>\n",
       "      <td>2572</td>\n",
       "      <td>3621</td>\n",
       "      <td>817</td>\n",
       "      <td>6</td>\n",
       "      <td>99</td>\n",
       "    </tr>\n",
       "    <tr>\n",
       "      <th>1</th>\n",
       "      <td>2020-03-23</td>\n",
       "      <td>17:00</td>\n",
       "      <td>13119</td>\n",
       "      <td>45</td>\n",
       "      <td>0</td>\n",
       "      <td>105</td>\n",
       "      <td>341</td>\n",
       "      <td>6035</td>\n",
       "      <td>4343</td>\n",
       "      <td>1402</td>\n",
       "      <td>...</td>\n",
       "      <td>5612</td>\n",
       "      <td>7490</td>\n",
       "      <td>17</td>\n",
       "      <td>1999</td>\n",
       "      <td>3742</td>\n",
       "      <td>2646</td>\n",
       "      <td>3848</td>\n",
       "      <td>877</td>\n",
       "      <td>7</td>\n",
       "      <td>125</td>\n",
       "    </tr>\n",
       "    <tr>\n",
       "      <th>2</th>\n",
       "      <td>2020-03-24</td>\n",
       "      <td>09:45</td>\n",
       "      <td>14776</td>\n",
       "      <td>45</td>\n",
       "      <td>0</td>\n",
       "      <td>105</td>\n",
       "      <td>374</td>\n",
       "      <td>6786</td>\n",
       "      <td>4906</td>\n",
       "      <td>1591</td>\n",
       "      <td>...</td>\n",
       "      <td>6374</td>\n",
       "      <td>8379</td>\n",
       "      <td>23</td>\n",
       "      <td>2328</td>\n",
       "      <td>4237</td>\n",
       "      <td>2887</td>\n",
       "      <td>4364</td>\n",
       "      <td>953</td>\n",
       "      <td>7</td>\n",
       "      <td>131</td>\n",
       "    </tr>\n",
       "    <tr>\n",
       "      <th>3</th>\n",
       "      <td>2020-03-24</td>\n",
       "      <td>17:00</td>\n",
       "      <td>15597</td>\n",
       "      <td>46</td>\n",
       "      <td>0</td>\n",
       "      <td>105</td>\n",
       "      <td>384</td>\n",
       "      <td>7094</td>\n",
       "      <td>5194</td>\n",
       "      <td>1689</td>\n",
       "      <td>...</td>\n",
       "      <td>6736</td>\n",
       "      <td>8838</td>\n",
       "      <td>23</td>\n",
       "      <td>2505</td>\n",
       "      <td>4407</td>\n",
       "      <td>3013</td>\n",
       "      <td>4667</td>\n",
       "      <td>999</td>\n",
       "      <td>6</td>\n",
       "      <td>192</td>\n",
       "    </tr>\n",
       "    <tr>\n",
       "      <th>4</th>\n",
       "      <td>2020-03-25</td>\n",
       "      <td>17:30</td>\n",
       "      <td>20011</td>\n",
       "      <td>46</td>\n",
       "      <td>0</td>\n",
       "      <td>105</td>\n",
       "      <td>446</td>\n",
       "      <td>8880</td>\n",
       "      <td>6786</td>\n",
       "      <td>2226</td>\n",
       "      <td>...</td>\n",
       "      <td>8655</td>\n",
       "      <td>11325</td>\n",
       "      <td>31</td>\n",
       "      <td>3542</td>\n",
       "      <td>5232</td>\n",
       "      <td>3616</td>\n",
       "      <td>6420</td>\n",
       "      <td>1166</td>\n",
       "      <td>35</td>\n",
       "      <td>280</td>\n",
       "    </tr>\n",
       "    <tr>\n",
       "      <th>5</th>\n",
       "      <td>2020-03-26</td>\n",
       "      <td>17:00</td>\n",
       "      <td>23112</td>\n",
       "      <td>47</td>\n",
       "      <td>0</td>\n",
       "      <td>105</td>\n",
       "      <td>495</td>\n",
       "      <td>10145</td>\n",
       "      <td>7869</td>\n",
       "      <td>2627</td>\n",
       "      <td>...</td>\n",
       "      <td>10124</td>\n",
       "      <td>12948</td>\n",
       "      <td>40</td>\n",
       "      <td>4243</td>\n",
       "      <td>6095</td>\n",
       "      <td>4046</td>\n",
       "      <td>7362</td>\n",
       "      <td>1330</td>\n",
       "      <td>36</td>\n",
       "      <td>365</td>\n",
       "    </tr>\n",
       "    <tr>\n",
       "      <th>6</th>\n",
       "      <td>2020-03-27</td>\n",
       "      <td>16:00</td>\n",
       "      <td>26697</td>\n",
       "      <td>47</td>\n",
       "      <td>0</td>\n",
       "      <td>105</td>\n",
       "      <td>543</td>\n",
       "      <td>11617</td>\n",
       "      <td>9158</td>\n",
       "      <td>3034</td>\n",
       "      <td>...</td>\n",
       "      <td>11792</td>\n",
       "      <td>14863</td>\n",
       "      <td>42</td>\n",
       "      <td>4880</td>\n",
       "      <td>7091</td>\n",
       "      <td>4627</td>\n",
       "      <td>8529</td>\n",
       "      <td>1534</td>\n",
       "      <td>36</td>\n",
       "      <td>450</td>\n",
       "    </tr>\n",
       "    <tr>\n",
       "      <th>7</th>\n",
       "      <td>2020-03-28</td>\n",
       "      <td>16:00</td>\n",
       "      <td>30765</td>\n",
       "      <td>48</td>\n",
       "      <td>0</td>\n",
       "      <td>105</td>\n",
       "      <td>591</td>\n",
       "      <td>13213</td>\n",
       "      <td>10596</td>\n",
       "      <td>3571</td>\n",
       "      <td>...</td>\n",
       "      <td>13592</td>\n",
       "      <td>17133</td>\n",
       "      <td>40</td>\n",
       "      <td>5752</td>\n",
       "      <td>8129</td>\n",
       "      <td>5237</td>\n",
       "      <td>9831</td>\n",
       "      <td>1781</td>\n",
       "      <td>35</td>\n",
       "      <td>672</td>\n",
       "    </tr>\n",
       "  </tbody>\n",
       "</table>\n",
       "<p>8 rows × 24 columns</p>\n",
       "</div>"
      ],
      "text/plain": [
       "         date   time  total_cases  age_median  age_min  age_max  age_0_to_17  \\\n",
       "0  2020-03-23  09:35        12339          45        0      105          323   \n",
       "1  2020-03-23  17:00        13119          45        0      105          341   \n",
       "2  2020-03-24  09:45        14776          45        0      105          374   \n",
       "3  2020-03-24  17:00        15597          46        0      105          384   \n",
       "4  2020-03-25  17:30        20011          46        0      105          446   \n",
       "5  2020-03-26  17:00        23112          47        0      105          495   \n",
       "6  2020-03-27  16:00        26697          47        0      105          543   \n",
       "7  2020-03-28  16:00        30765          48        0      105          591   \n",
       "\n",
       "   age_18_to_44  age_45_to_64  age_65_to_74  ...  sex_female  sex_male  \\\n",
       "0          5704          4069          1308  ...        5255      7067   \n",
       "1          6035          4343          1402  ...        5612      7490   \n",
       "2          6786          4906          1591  ...        6374      8379   \n",
       "3          7094          5194          1689  ...        6736      8838   \n",
       "4          8880          6786          2226  ...        8655     11325   \n",
       "5         10145          7869          2627  ...       10124     12948   \n",
       "6         11617          9158          3034  ...       11792     14863   \n",
       "7         13213         10596          3571  ...       13592     17133   \n",
       "\n",
       "   sex_unknown  borough_bronx  borough_brooklyn  borough_manhattan  \\\n",
       "0           17           1829              3494               2572   \n",
       "1           17           1999              3742               2646   \n",
       "2           23           2328              4237               2887   \n",
       "3           23           2505              4407               3013   \n",
       "4           31           3542              5232               3616   \n",
       "5           40           4243              6095               4046   \n",
       "6           42           4880              7091               4627   \n",
       "7           40           5752              8129               5237   \n",
       "\n",
       "   borough_queens  borough_staten_island  borough_unknown  deaths  \n",
       "0            3621                    817                6      99  \n",
       "1            3848                    877                7     125  \n",
       "2            4364                    953                7     131  \n",
       "3            4667                    999                6     192  \n",
       "4            6420                   1166               35     280  \n",
       "5            7362                   1330               36     365  \n",
       "6            8529                   1534               36     450  \n",
       "7            9831                   1781               35     672  \n",
       "\n",
       "[8 rows x 24 columns]"
      ]
     },
     "execution_count": 3,
     "metadata": {},
     "output_type": "execute_result"
    }
   ],
   "source": [
    "update_str = 'as of March 29, 2020, 4:15 pm'\n",
    "source_str = 'Data: nyc.gov/coronavirus - Plot: carlos-afonso.github.io/COVID-19'\n",
    "\n",
    "data_file = '../data/nyc-health-daily-updates/cases/nyc-covid-19-summary-from-2020-03-23.csv'\n",
    "\n",
    "df = pd.read_csv(data_file)\n",
    "df"
   ]
  },
  {
   "cell_type": "code",
   "execution_count": 3,
   "metadata": {},
   "outputs": [
    {
     "data": {
      "text/plain": [
       "date                     2020-03-28\n",
       "time                          16:00\n",
       "total_cases                   30765\n",
       "age_median                       48\n",
       "age_min                           0\n",
       "age_max                         105\n",
       "age_0_to_17                     591\n",
       "age_18_to_44                  13213\n",
       "age_45_to_64                  10596\n",
       "age_65_to_74                   3571\n",
       "age_75_and_over                2724\n",
       "age_unknown                      70\n",
       "age_50_and_over               14279\n",
       "age_under_50                  16416\n",
       "sex_female                    13592\n",
       "sex_male                      17133\n",
       "sex_unknown                      40\n",
       "borough_bronx                  5752\n",
       "borough_brooklyn               8129\n",
       "borough_manhattan              5237\n",
       "borough_queens                 9831\n",
       "borough_staten_island          1781\n",
       "borough_unknown                  35\n",
       "deaths                          672\n",
       "Name: 7, dtype: object"
      ]
     },
     "execution_count": 3,
     "metadata": {},
     "output_type": "execute_result"
    }
   ],
   "source": [
    "# Show latest data\n",
    "df.iloc[-1]"
   ]
  },
  {
   "cell_type": "markdown",
   "metadata": {},
   "source": [
    "## 2. Define helper functions"
   ]
  },
  {
   "cell_type": "code",
   "execution_count": 4,
   "metadata": {},
   "outputs": [],
   "source": [
    "# Helper function to format y-labels as thousands (e.g., 1000 as 1k)\n",
    "def thousands(x, pos):\n",
    "    k = int(x / 1000)\n",
    "    if k == 0:\n",
    "        return '0'\n",
    "    else:\n",
    "        return str(k) + 'k'"
   ]
  },
  {
   "cell_type": "markdown",
   "metadata": {},
   "source": [
    "## 3. Plot Cases by Age Group"
   ]
  },
  {
   "cell_type": "code",
   "execution_count": 5,
   "metadata": {},
   "outputs": [
    {
     "data": {
      "image/png": "[encoded data removed]",
      "text/plain": [
       "<Figure size 432x288 with 1 Axes>"
      ]
     },
     "metadata": {
      "needs_background": "light"
     },
     "output_type": "display_data"
    }
   ],
   "source": [
    "fig = plt.figure()\n",
    "\n",
    "cols   = ['age_0_to_17', 'age_18_to_44', 'age_45_to_64', 'age_65_to_74', 'age_75_and_over']\n",
    "labels = ['Age 0 to 17',     '18 to 44',     '45 to 64',     '65 to 74',     '75 and over']\n",
    "values = df.iloc[-1][cols].values.astype(int)\n",
    "total = sum(values)\n",
    "\n",
    "plt.bar(labels, values, alpha=0.5)\n",
    "\n",
    "plt.ylim(0, 16000)\n",
    "\n",
    "plt.gca().yaxis.set_major_formatter(FuncFormatter(thousands))\n",
    "\n",
    "for xy in zip(range(len(values)), values):\n",
    "    note = '{:,}'.format(xy[1]) + '\\n(' + str(int(round(100 * xy[1] / total, 0))) + '%)'\n",
    "    plt.annotate(note, xy=xy, xytext=(0, 15), textcoords='offset points', ha='center', va='center', color='dimgray')\n",
    "\n",
    "plt.suptitle('NYC\\'s COVID-19 cases by Age Group', x=0.51, fontweight='bold')\n",
    "plt.title(update_str, fontsize=11)\n",
    "\n",
    "plt.text(-0.35, -3000, source_str, fontfamily='Consolas', fontsize=9)\n",
    "\n",
    "plt.tight_layout(rect=[0, 0, 1, 0.95])\n",
    "plt.show()"
   ]
  },
  {
   "cell_type": "code",
   "execution_count": 6,
   "metadata": {},
   "outputs": [],
   "source": [
    "# Save figure as SVG and PNG images\n",
    "file_path = '../images/nyc-covid-19-cases-by-age-group'\n",
    "fig.savefig(file_path + '.svg')\n",
    "fig.savefig(file_path + '.png', dpi=200)"
   ]
  },
  {
   "cell_type": "markdown",
   "metadata": {},
   "source": [
    "## 4. Plot Cases by Sex"
   ]
  },
  {
   "cell_type": "code",
   "execution_count": 7,
   "metadata": {},
   "outputs": [
    {
     "data": {
      "image/png": "[encoded data removed]",
      "text/plain": [
       "<Figure size 432x288 with 1 Axes>"
      ]
     },
     "metadata": {
      "needs_background": "light"
     },
     "output_type": "display_data"
    }
   ],
   "source": [
    "fig = plt.figure()\n",
    "\n",
    "cols = ['sex_female', 'sex_male']\n",
    "labels = ['Female', 'Male']\n",
    "values = df.iloc[-1][cols].values.astype(int)\n",
    "total = sum(values)\n",
    "\n",
    "plt.bar(labels, values, alpha=0.5)\n",
    "\n",
    "plt.ylim(0, 23000)\n",
    "\n",
    "plt.gca().yaxis.set_major_formatter(FuncFormatter(thousands))\n",
    "\n",
    "for xy in zip(range(len(values)), values):\n",
    "    note = '{:,}'.format(xy[1]) + '\\n(' + str(int(round(100 * xy[1] / total, 0))) + '%)'\n",
    "    plt.annotate(note, xy=xy, xytext=(0, 15), textcoords='offset points', ha='center', va='center', color='dimgray')\n",
    "\n",
    "plt.suptitle('NYC\\'s COVID-19 cases by Sex', x=0.52, fontweight='bold')\n",
    "plt.title(update_str, fontsize=11)\n",
    "\n",
    "plt.text(-0.4, -4100, source_str, fontfamily='Consolas', fontsize=9)\n",
    "\n",
    "plt.tight_layout(rect=[0, 0, 1, 0.95])\n",
    "plt.show()"
   ]
  },
  {
   "cell_type": "code",
   "execution_count": 8,
   "metadata": {},
   "outputs": [],
   "source": [
    "# Save figure as SVG and PNG images\n",
    "file_path = '../images/nyc-covid-19-cases-by-sex'\n",
    "fig.savefig(file_path + '.svg')\n",
    "fig.savefig(file_path + '.png', dpi=200)"
   ]
  },
  {
   "cell_type": "markdown",
   "metadata": {},
   "source": [
    "## 5. Plot Cases by Borough"
   ]
  },
  {
   "cell_type": "code",
   "execution_count": 9,
   "metadata": {},
   "outputs": [
    {
     "data": {
      "image/png": "[encoded data removed]",
      "text/plain": [
       "<Figure size 432x288 with 1 Axes>"
      ]
     },
     "metadata": {
      "needs_background": "light"
     },
     "output_type": "display_data"
    }
   ],
   "source": [
    "fig = plt.figure()\n",
    "\n",
    "boroughs = ['bronx', 'brooklyn', 'manhattan', 'queens', 'staten_island']\n",
    "cols = ['borough_' + b for b in boroughs]\n",
    "labels = [b.replace('_', ' ').title() for b in boroughs]\n",
    "values = df.iloc[-1][cols].values.astype(int)\n",
    "total = sum(values)\n",
    "\n",
    "plt.bar(labels, values, alpha=0.5)\n",
    "\n",
    "plt.ylim(0, 12000)\n",
    "\n",
    "plt.gca().yaxis.set_major_formatter(FuncFormatter(thousands))\n",
    "\n",
    "for xy in zip(range(len(values)), values):\n",
    "    note = '{:,}'.format(xy[1]) + '\\n(' + str(int(round(100 * xy[1] / total, 0))) + '%)'\n",
    "    plt.annotate(note, xy=xy, xytext=(0, 15), textcoords='offset points', ha='center', va='center', color='dimgray')\n",
    "\n",
    "plt.suptitle('NYC\\'s COVID-19 cases by Borough', x=0.52, fontweight='bold')\n",
    "\n",
    "plt.title(update_str, fontsize=11)\n",
    "\n",
    "plt.text(-0.35, -2300, source_str, fontfamily='Consolas', fontsize=9)\n",
    "\n",
    "plt.tight_layout(rect=[0, 0, 1, 0.95])\n",
    "plt.show()"
   ]
  },
  {
   "cell_type": "code",
   "execution_count": 10,
   "metadata": {},
   "outputs": [],
   "source": [
    "# Save figure as SVG and PNG images\n",
    "file_path = '../images/nyc-covid-19-cases-by-borough'\n",
    "fig.savefig(file_path + '.svg')\n",
    "fig.savefig(file_path + '.png', dpi=200)"
   ]
  },
  {
   "cell_type": "code",
   "execution_count": null,
   "metadata": {},
   "outputs": [],
   "source": []
  }
 ],
 "metadata": {
  "kernelspec": {
   "display_name": "Python 3",
   "language": "python",
   "name": "python3"
  },
  "language_info": {
   "codemirror_mode": {
    "name": "ipython",
    "version": 3
   },
   "file_extension": ".py",
   "mimetype": "text/x-python",
   "name": "python",
   "nbconvert_exporter": "python",
   "pygments_lexer": "ipython3",
   "version": "3.7.6"
  },
  "toc-autonumbering": false
 },
 "nbformat": 4,
 "nbformat_minor": 4
}

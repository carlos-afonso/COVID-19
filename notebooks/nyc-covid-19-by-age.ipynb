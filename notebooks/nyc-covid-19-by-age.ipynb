{
 "cells": [
  {
   "cell_type": "markdown",
   "metadata": {},
   "source": [
    "# NYC's COVID-19 Rates by Age"
   ]
  },
  {
   "cell_type": "markdown",
   "metadata": {},
   "source": [
    "## 0. Import dependencies"
   ]
  },
  {
   "cell_type": "code",
   "execution_count": 1,
   "metadata": {},
   "outputs": [],
   "source": [
    "import matplotlib.pyplot as plt\n",
    "import pandas as pd"
   ]
  },
  {
   "cell_type": "markdown",
   "metadata": {},
   "source": [
    "## 1. Read data\n",
    "\n",
    "Read data from CSV file into Pandas DataFrame."
   ]
  },
  {
   "cell_type": "code",
   "execution_count": 2,
   "metadata": {},
   "outputs": [
    {
     "data": {
      "text/html": [
       "<div>\n",
       "<style scoped>\n",
       "    .dataframe tbody tr th:only-of-type {\n",
       "        vertical-align: middle;\n",
       "    }\n",
       "\n",
       "    .dataframe tbody tr th {\n",
       "        vertical-align: top;\n",
       "    }\n",
       "\n",
       "    .dataframe thead th {\n",
       "        text-align: right;\n",
       "    }\n",
       "</style>\n",
       "<table border=\"1\" class=\"dataframe\">\n",
       "  <thead>\n",
       "    <tr style=\"text-align: right;\">\n",
       "      <th></th>\n",
       "      <th>AGE_GROUP</th>\n",
       "      <th>COVID_CASE_RATE</th>\n",
       "      <th>HOSPITALIZED_CASE_RATE</th>\n",
       "      <th>DEATH_RATE</th>\n",
       "    </tr>\n",
       "  </thead>\n",
       "  <tbody>\n",
       "    <tr>\n",
       "      <th>0</th>\n",
       "      <td>0-17 years</td>\n",
       "      <td>119.87</td>\n",
       "      <td>11.47</td>\n",
       "      <td>0.17</td>\n",
       "    </tr>\n",
       "    <tr>\n",
       "      <th>1</th>\n",
       "      <td>18-44 years</td>\n",
       "      <td>1200.53</td>\n",
       "      <td>132.36</td>\n",
       "      <td>8.43</td>\n",
       "    </tr>\n",
       "    <tr>\n",
       "      <th>2</th>\n",
       "      <td>45-64 years</td>\n",
       "      <td>1886.97</td>\n",
       "      <td>519.98</td>\n",
       "      <td>70.48</td>\n",
       "    </tr>\n",
       "    <tr>\n",
       "      <th>3</th>\n",
       "      <td>65-74 years</td>\n",
       "      <td>1928.57</td>\n",
       "      <td>938.04</td>\n",
       "      <td>216.13</td>\n",
       "    </tr>\n",
       "    <tr>\n",
       "      <th>4</th>\n",
       "      <td>75 and older years</td>\n",
       "      <td>2154.03</td>\n",
       "      <td>1357.83</td>\n",
       "      <td>536.40</td>\n",
       "    </tr>\n",
       "    <tr>\n",
       "      <th>5</th>\n",
       "      <td>Citywide total</td>\n",
       "      <td>1271.77</td>\n",
       "      <td>349.28</td>\n",
       "      <td>73.61</td>\n",
       "    </tr>\n",
       "  </tbody>\n",
       "</table>\n",
       "</div>"
      ],
      "text/plain": [
       "            AGE_GROUP  COVID_CASE_RATE  HOSPITALIZED_CASE_RATE  DEATH_RATE\n",
       "0          0-17 years           119.87                   11.47        0.17\n",
       "1         18-44 years          1200.53                  132.36        8.43\n",
       "2         45-64 years          1886.97                  519.98       70.48\n",
       "3         65-74 years          1928.57                  938.04      216.13\n",
       "4  75 and older years          2154.03                 1357.83      536.40\n",
       "5      Citywide total          1271.77                  349.28       73.61"
      ]
     },
     "execution_count": 2,
     "metadata": {},
     "output_type": "execute_result"
    }
   ],
   "source": [
    "update_str = 'as of Apr 13, 2020'\n",
    "source_str = 'Data: nyc.gov/coronavirus - Plot: carlos-afonso.github.io/COVID-19'\n",
    "#source_str = 'Data: NYC Health: nyc.gov/coronavirus - Plot: carlos-afonso.github.io/COVID-19'\n",
    "\n",
    "file = '../data/nyc-health-github/by-age.csv'\n",
    "df = pd.read_csv(file)\n",
    "df"
   ]
  },
  {
   "cell_type": "markdown",
   "metadata": {},
   "source": [
    "## 2. Clean data"
   ]
  },
  {
   "cell_type": "code",
   "execution_count": 3,
   "metadata": {},
   "outputs": [
    {
     "data": {
      "text/html": [
       "<div>\n",
       "<style scoped>\n",
       "    .dataframe tbody tr th:only-of-type {\n",
       "        vertical-align: middle;\n",
       "    }\n",
       "\n",
       "    .dataframe tbody tr th {\n",
       "        vertical-align: top;\n",
       "    }\n",
       "\n",
       "    .dataframe thead th {\n",
       "        text-align: right;\n",
       "    }\n",
       "</style>\n",
       "<table border=\"1\" class=\"dataframe\">\n",
       "  <thead>\n",
       "    <tr style=\"text-align: right;\">\n",
       "      <th></th>\n",
       "      <th>group</th>\n",
       "      <th>case_rate</th>\n",
       "      <th>hosp_rate</th>\n",
       "      <th>death_rate</th>\n",
       "    </tr>\n",
       "  </thead>\n",
       "  <tbody>\n",
       "    <tr>\n",
       "      <th>0</th>\n",
       "      <td>Age 0 to 17</td>\n",
       "      <td>119.87</td>\n",
       "      <td>11.47</td>\n",
       "      <td>0.17</td>\n",
       "    </tr>\n",
       "    <tr>\n",
       "      <th>1</th>\n",
       "      <td>18 to 44</td>\n",
       "      <td>1200.53</td>\n",
       "      <td>132.36</td>\n",
       "      <td>8.43</td>\n",
       "    </tr>\n",
       "    <tr>\n",
       "      <th>2</th>\n",
       "      <td>45 to 64</td>\n",
       "      <td>1886.97</td>\n",
       "      <td>519.98</td>\n",
       "      <td>70.48</td>\n",
       "    </tr>\n",
       "    <tr>\n",
       "      <th>3</th>\n",
       "      <td>65 to 74</td>\n",
       "      <td>1928.57</td>\n",
       "      <td>938.04</td>\n",
       "      <td>216.13</td>\n",
       "    </tr>\n",
       "    <tr>\n",
       "      <th>4</th>\n",
       "      <td>75 and over</td>\n",
       "      <td>2154.03</td>\n",
       "      <td>1357.83</td>\n",
       "      <td>536.40</td>\n",
       "    </tr>\n",
       "    <tr>\n",
       "      <th>5</th>\n",
       "      <td>All</td>\n",
       "      <td>1271.77</td>\n",
       "      <td>349.28</td>\n",
       "      <td>73.61</td>\n",
       "    </tr>\n",
       "  </tbody>\n",
       "</table>\n",
       "</div>"
      ],
      "text/plain": [
       "         group  case_rate  hosp_rate  death_rate\n",
       "0  Age 0 to 17     119.87      11.47        0.17\n",
       "1     18 to 44    1200.53     132.36        8.43\n",
       "2     45 to 64    1886.97     519.98       70.48\n",
       "3     65 to 74    1928.57     938.04      216.13\n",
       "4  75 and over    2154.03    1357.83      536.40\n",
       "5          All    1271.77     349.28       73.61"
      ]
     },
     "execution_count": 3,
     "metadata": {},
     "output_type": "execute_result"
    }
   ],
   "source": [
    "group_rename_dict = {\n",
    "    '0-17 years': 'Age 0 to 17',\n",
    "    '18-44 years': '18 to 44',\n",
    "    '45-64 years': '45 to 64',\n",
    "    '65-74 years': '65 to 74',\n",
    "    '75 and older years': '75 and over',\n",
    "    'Citywide total': 'All'\n",
    "}\n",
    "\n",
    "df.replace(group_rename_dict, inplace=True)\n",
    "\n",
    "col_rename_dict = {\n",
    "    'AGE_GROUP': 'group',\n",
    "    'COVID_CASE_RATE': 'case_rate',\n",
    "    'HOSPITALIZED_CASE_RATE': 'hosp_rate',\n",
    "    'DEATH_RATE': 'death_rate'\n",
    "}\n",
    "\n",
    "df.rename(columns=col_rename_dict, inplace=True)\n",
    "\n",
    "df"
   ]
  },
  {
   "cell_type": "markdown",
   "metadata": {},
   "source": [
    "## 3. Plot data"
   ]
  },
  {
   "cell_type": "code",
   "execution_count": 4,
   "metadata": {},
   "outputs": [
    {
     "data": {
      "image/png": "[encoded data removed]",
      "text/plain": [
       "<Figure size 432x576 with 3 Axes>"
      ]
     },
     "metadata": {
      "needs_background": "light"
     },
     "output_type": "display_data"
    }
   ],
   "source": [
    "fig, (ax1, ax2, ax3) = plt.subplots(3, figsize=(6, 8), sharex=False)\n",
    "\n",
    "ax1.bar(df['group'], df['case_rate'], alpha=0.5, color='C0', label='Total Cases per 100,000 people')\n",
    "ax2.bar(df['group'], df['hosp_rate'], alpha=0.5, color='C3', label='Total Hospitalizations per 100,000 people')\n",
    "ax3.bar(df['group'], df['death_rate'], alpha=0.5, color='k', label='Total Deaths per 100,000 people')\n",
    "\n",
    "#ax1.set_ylim(0, 1800)\n",
    "#ax2.set_ylim(0, 990)\n",
    "#ax3.set_ylim(0, 370)\n",
    "\n",
    "s = 1.2\n",
    "ax1.set_ylim(0, s * df['case_rate'].max())\n",
    "ax2.set_ylim(0, s * df['hosp_rate'].max())\n",
    "ax3.set_ylim(0, s * df['death_rate'].max())\n",
    "\n",
    "for ax in (ax1, ax2, ax3):\n",
    "    ax.set_xlim(-0.5, 5.5)\n",
    "    ax.grid(axis='y', linestyle=':')\n",
    "    ax.legend(bbox_to_anchor=(0, 1.2), loc='upper left', prop={'weight':'bold'})\n",
    "    for i in ax.patches:\n",
    "        [x, y] = [i.get_x(), i.get_height()]\n",
    "        ax.annotate(str(int(round(y))), xy=[x, y], xytext=(25, 7), textcoords='offset points', ha='center', va='center')\n",
    "\n",
    "plt.suptitle('NYC\\'s COVID-19 Rates by Age Group, ' + update_str, fontweight='bold', fontsize=12.5, x=0.48)\n",
    "\n",
    "ax3.text(-0.75, -200, source_str, fontfamily='Consolas', fontsize=10)\n",
    "\n",
    "plt.tight_layout(pad=1.2, rect=[0, 0, 1, 0.96]) #\n",
    "plt.show()"
   ]
  },
  {
   "cell_type": "code",
   "execution_count": 5,
   "metadata": {},
   "outputs": [],
   "source": [
    "# Save figure as SVG and PNG images\n",
    "file_path = '../images/nyc-covid-19-rates-by-age'\n",
    "fig.savefig(file_path + '.svg')\n",
    "fig.savefig(file_path + '.png', dpi=200)"
   ]
  },
  {
   "cell_type": "code",
   "execution_count": null,
   "metadata": {},
   "outputs": [],
   "source": []
  }
 ],
 "metadata": {
  "kernelspec": {
   "display_name": "Python 3",
   "language": "python",
   "name": "python3"
  },
  "language_info": {
   "codemirror_mode": {
    "name": "ipython",
    "version": 3
   },
   "file_extension": ".py",
   "mimetype": "text/x-python",
   "name": "python",
   "nbconvert_exporter": "python",
   "pygments_lexer": "ipython3",
   "version": "3.7.6"
  }
 },
 "nbformat": 4,
 "nbformat_minor": 4
}

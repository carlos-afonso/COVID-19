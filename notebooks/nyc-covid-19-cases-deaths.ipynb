{
 "cells": [
  {
   "cell_type": "markdown",
   "metadata": {},
   "source": [
    "# NYC's COVID-19 cases and deaths\n",
    "\n",
    "**Data source:** New York City Health Department"
   ]
  },
  {
   "cell_type": "markdown",
   "metadata": {},
   "source": [
    "## 0. Import dependencies"
   ]
  },
  {
   "cell_type": "code",
   "execution_count": 1,
   "metadata": {},
   "outputs": [],
   "source": [
    "import matplotlib.pyplot as plt\n",
    "import pandas as pd"
   ]
  },
  {
   "cell_type": "markdown",
   "metadata": {},
   "source": [
    "## 1. Read data"
   ]
  },
  {
   "cell_type": "code",
   "execution_count": 2,
   "metadata": {},
   "outputs": [],
   "source": [
    "update_str = 'as of March 28, 2020, 4:00 pm'\n",
    "source_str = 'Sources: Data: nyc.gov/coronavirus - Plot: carlos-afonso.github.io/COVID-19'\n",
    "\n",
    "base_dir = '../data/nyc-health-daily-updates/'\n",
    "\n",
    "cases_file = base_dir + 'cases/nyc-covid-19-summary-from-2020-03-23.csv'\n",
    "cases_df = pd.read_csv(cases_file)\n",
    "\n",
    "deaths_file = base_dir + 'deaths/nyc-covid-19-deaths_2020-03-28_16-00.csv'\n",
    "deaths_df = pd.read_csv(deaths_file)\n",
    "deaths_df.set_index('index', inplace=True)"
   ]
  },
  {
   "cell_type": "code",
   "execution_count": 4,
   "metadata": {},
   "outputs": [
    {
     "data": {
      "text/html": [
       "<div>\n",
       "<style scoped>\n",
       "    .dataframe tbody tr th:only-of-type {\n",
       "        vertical-align: middle;\n",
       "    }\n",
       "\n",
       "    .dataframe tbody tr th {\n",
       "        vertical-align: top;\n",
       "    }\n",
       "\n",
       "    .dataframe thead th {\n",
       "        text-align: right;\n",
       "    }\n",
       "</style>\n",
       "<table border=\"1\" class=\"dataframe\">\n",
       "  <thead>\n",
       "    <tr style=\"text-align: right;\">\n",
       "      <th></th>\n",
       "      <th>date</th>\n",
       "      <th>time</th>\n",
       "      <th>total_cases</th>\n",
       "      <th>age_median</th>\n",
       "      <th>age_min</th>\n",
       "      <th>age_max</th>\n",
       "      <th>age_0_to_17</th>\n",
       "      <th>age_18_to_44</th>\n",
       "      <th>age_45_to_64</th>\n",
       "      <th>age_65_to_74</th>\n",
       "      <th>...</th>\n",
       "      <th>sex_female</th>\n",
       "      <th>sex_male</th>\n",
       "      <th>sex_unknown</th>\n",
       "      <th>borough_bronx</th>\n",
       "      <th>borough_brooklyn</th>\n",
       "      <th>borough_manhattan</th>\n",
       "      <th>borough_queens</th>\n",
       "      <th>borough_staten_island</th>\n",
       "      <th>borough_unknown</th>\n",
       "      <th>deaths</th>\n",
       "    </tr>\n",
       "  </thead>\n",
       "  <tbody>\n",
       "    <tr>\n",
       "      <th>7</th>\n",
       "      <td>2020-03-28</td>\n",
       "      <td>16:00</td>\n",
       "      <td>30765</td>\n",
       "      <td>48</td>\n",
       "      <td>0</td>\n",
       "      <td>105</td>\n",
       "      <td>591</td>\n",
       "      <td>13213</td>\n",
       "      <td>10596</td>\n",
       "      <td>3571</td>\n",
       "      <td>...</td>\n",
       "      <td>13592</td>\n",
       "      <td>17133</td>\n",
       "      <td>40</td>\n",
       "      <td>5752</td>\n",
       "      <td>8129</td>\n",
       "      <td>5237</td>\n",
       "      <td>9831</td>\n",
       "      <td>1781</td>\n",
       "      <td>35</td>\n",
       "      <td>672</td>\n",
       "    </tr>\n",
       "  </tbody>\n",
       "</table>\n",
       "<p>1 rows × 24 columns</p>\n",
       "</div>"
      ],
      "text/plain": [
       "         date   time  total_cases  age_median  age_min  age_max  age_0_to_17  \\\n",
       "7  2020-03-28  16:00        30765          48        0      105          591   \n",
       "\n",
       "   age_18_to_44  age_45_to_64  age_65_to_74  ...  sex_female  sex_male  \\\n",
       "7         13213         10596          3571  ...       13592     17133   \n",
       "\n",
       "   sex_unknown  borough_bronx  borough_brooklyn  borough_manhattan  \\\n",
       "7           40           5752              8129               5237   \n",
       "\n",
       "   borough_queens  borough_staten_island  borough_unknown  deaths  \n",
       "7            9831                   1781               35     672  \n",
       "\n",
       "[1 rows x 24 columns]"
      ]
     },
     "execution_count": 4,
     "metadata": {},
     "output_type": "execute_result"
    }
   ],
   "source": [
    "cases_df.tail(1)"
   ]
  },
  {
   "cell_type": "code",
   "execution_count": 6,
   "metadata": {},
   "outputs": [
    {
     "data": {
      "text/html": [
       "<div>\n",
       "<style scoped>\n",
       "    .dataframe tbody tr th:only-of-type {\n",
       "        vertical-align: middle;\n",
       "    }\n",
       "\n",
       "    .dataframe tbody tr th {\n",
       "        vertical-align: top;\n",
       "    }\n",
       "\n",
       "    .dataframe thead th {\n",
       "        text-align: right;\n",
       "    }\n",
       "</style>\n",
       "<table border=\"1\" class=\"dataframe\">\n",
       "  <thead>\n",
       "    <tr style=\"text-align: right;\">\n",
       "      <th></th>\n",
       "      <th>uc_yes</th>\n",
       "      <th>uc_no</th>\n",
       "      <th>uc_pending</th>\n",
       "      <th>total</th>\n",
       "    </tr>\n",
       "    <tr>\n",
       "      <th>index</th>\n",
       "      <th></th>\n",
       "      <th></th>\n",
       "      <th></th>\n",
       "      <th></th>\n",
       "    </tr>\n",
       "  </thead>\n",
       "  <tbody>\n",
       "    <tr>\n",
       "      <th>age_0_to_17</th>\n",
       "      <td>0</td>\n",
       "      <td>0</td>\n",
       "      <td>0</td>\n",
       "      <td>0</td>\n",
       "    </tr>\n",
       "    <tr>\n",
       "      <th>age_18_to_44</th>\n",
       "      <td>23</td>\n",
       "      <td>1</td>\n",
       "      <td>8</td>\n",
       "      <td>32</td>\n",
       "    </tr>\n",
       "    <tr>\n",
       "      <th>age_45_to_64</th>\n",
       "      <td>125</td>\n",
       "      <td>8</td>\n",
       "      <td>28</td>\n",
       "      <td>161</td>\n",
       "    </tr>\n",
       "    <tr>\n",
       "      <th>age_65_to_74</th>\n",
       "      <td>125</td>\n",
       "      <td>2</td>\n",
       "      <td>31</td>\n",
       "      <td>158</td>\n",
       "    </tr>\n",
       "    <tr>\n",
       "      <th>age_75_and_over</th>\n",
       "      <td>254</td>\n",
       "      <td>6</td>\n",
       "      <td>61</td>\n",
       "      <td>321</td>\n",
       "    </tr>\n",
       "    <tr>\n",
       "      <th>sex_female</th>\n",
       "      <td>213</td>\n",
       "      <td>6</td>\n",
       "      <td>42</td>\n",
       "      <td>261</td>\n",
       "    </tr>\n",
       "    <tr>\n",
       "      <th>sex_male</th>\n",
       "      <td>314</td>\n",
       "      <td>11</td>\n",
       "      <td>86</td>\n",
       "      <td>411</td>\n",
       "    </tr>\n",
       "    <tr>\n",
       "      <th>borough_bronx</th>\n",
       "      <td>142</td>\n",
       "      <td>1</td>\n",
       "      <td>9</td>\n",
       "      <td>152</td>\n",
       "    </tr>\n",
       "    <tr>\n",
       "      <th>borough_brooklyn</th>\n",
       "      <td>112</td>\n",
       "      <td>5</td>\n",
       "      <td>50</td>\n",
       "      <td>167</td>\n",
       "    </tr>\n",
       "    <tr>\n",
       "      <th>borough_manhattan</th>\n",
       "      <td>71</td>\n",
       "      <td>2</td>\n",
       "      <td>20</td>\n",
       "      <td>93</td>\n",
       "    </tr>\n",
       "    <tr>\n",
       "      <th>borough_queens</th>\n",
       "      <td>168</td>\n",
       "      <td>9</td>\n",
       "      <td>39</td>\n",
       "      <td>216</td>\n",
       "    </tr>\n",
       "    <tr>\n",
       "      <th>borough_staten_island</th>\n",
       "      <td>33</td>\n",
       "      <td>0</td>\n",
       "      <td>10</td>\n",
       "      <td>43</td>\n",
       "    </tr>\n",
       "    <tr>\n",
       "      <th>borough_unknown</th>\n",
       "      <td>1</td>\n",
       "      <td>0</td>\n",
       "      <td>0</td>\n",
       "      <td>1</td>\n",
       "    </tr>\n",
       "    <tr>\n",
       "      <th>total</th>\n",
       "      <td>527</td>\n",
       "      <td>17</td>\n",
       "      <td>128</td>\n",
       "      <td>672</td>\n",
       "    </tr>\n",
       "  </tbody>\n",
       "</table>\n",
       "</div>"
      ],
      "text/plain": [
       "                       uc_yes  uc_no  uc_pending  total\n",
       "index                                                  \n",
       "age_0_to_17                 0      0           0      0\n",
       "age_18_to_44               23      1           8     32\n",
       "age_45_to_64              125      8          28    161\n",
       "age_65_to_74              125      2          31    158\n",
       "age_75_and_over           254      6          61    321\n",
       "sex_female                213      6          42    261\n",
       "sex_male                  314     11          86    411\n",
       "borough_bronx             142      1           9    152\n",
       "borough_brooklyn          112      5          50    167\n",
       "borough_manhattan          71      2          20     93\n",
       "borough_queens            168      9          39    216\n",
       "borough_staten_island      33      0          10     43\n",
       "borough_unknown             1      0           0      1\n",
       "total                     527     17         128    672"
      ]
     },
     "execution_count": 6,
     "metadata": {},
     "output_type": "execute_result"
    }
   ],
   "source": [
    "deaths_df"
   ]
  },
  {
   "cell_type": "markdown",
   "metadata": {},
   "source": [
    "## 2. Cases and deaths by age group"
   ]
  },
  {
   "cell_type": "code",
   "execution_count": 21,
   "metadata": {},
   "outputs": [
    {
     "data": {
      "text/plain": [
       "array([0.        , 0.04761905, 0.23958333, 0.23511905, 0.47767857])"
      ]
     },
     "execution_count": 21,
     "metadata": {},
     "output_type": "execute_result"
    }
   ],
   "source": [
    "deaths_values / deaths_total"
   ]
  },
  {
   "cell_type": "code",
   "execution_count": 23,
   "metadata": {},
   "outputs": [
    {
     "data": {
      "text/plain": [
       "array([0.01925395, 0.43046099, 0.3452028 , 0.11633817, 0.0887441 ])"
      ]
     },
     "execution_count": 23,
     "metadata": {},
     "output_type": "execute_result"
    }
   ],
   "source": [
    "cases_values / cases_total"
   ]
  },
  {
   "cell_type": "code",
   "execution_count": 29,
   "metadata": {},
   "outputs": [
    {
     "data": {
      "text/html": [
       "<div>\n",
       "<style scoped>\n",
       "    .dataframe tbody tr th:only-of-type {\n",
       "        vertical-align: middle;\n",
       "    }\n",
       "\n",
       "    .dataframe tbody tr th {\n",
       "        vertical-align: top;\n",
       "    }\n",
       "\n",
       "    .dataframe thead th {\n",
       "        text-align: right;\n",
       "    }\n",
       "</style>\n",
       "<table border=\"1\" class=\"dataframe\">\n",
       "  <thead>\n",
       "    <tr style=\"text-align: right;\">\n",
       "      <th></th>\n",
       "      <th>cases_count</th>\n",
       "      <th>cases_pct</th>\n",
       "      <th>deaths_count</th>\n",
       "      <th>deaths_pct</th>\n",
       "    </tr>\n",
       "  </thead>\n",
       "  <tbody>\n",
       "    <tr>\n",
       "      <th>Age 0 to 17</th>\n",
       "      <td>591</td>\n",
       "      <td>2</td>\n",
       "      <td>0</td>\n",
       "      <td>0</td>\n",
       "    </tr>\n",
       "    <tr>\n",
       "      <th>18 to 44</th>\n",
       "      <td>13213</td>\n",
       "      <td>43</td>\n",
       "      <td>32</td>\n",
       "      <td>5</td>\n",
       "    </tr>\n",
       "    <tr>\n",
       "      <th>45 to 64</th>\n",
       "      <td>10596</td>\n",
       "      <td>35</td>\n",
       "      <td>161</td>\n",
       "      <td>24</td>\n",
       "    </tr>\n",
       "    <tr>\n",
       "      <th>65 to 74</th>\n",
       "      <td>3571</td>\n",
       "      <td>12</td>\n",
       "      <td>158</td>\n",
       "      <td>24</td>\n",
       "    </tr>\n",
       "    <tr>\n",
       "      <th>75 and over</th>\n",
       "      <td>2724</td>\n",
       "      <td>9</td>\n",
       "      <td>321</td>\n",
       "      <td>48</td>\n",
       "    </tr>\n",
       "  </tbody>\n",
       "</table>\n",
       "</div>"
      ],
      "text/plain": [
       "             cases_count  cases_pct  deaths_count  deaths_pct\n",
       "Age 0 to 17          591          2             0           0\n",
       "18 to 44           13213         43            32           5\n",
       "45 to 64           10596         35           161          24\n",
       "65 to 74            3571         12           158          24\n",
       "75 and over         2724          9           321          48"
      ]
     },
     "execution_count": 29,
     "metadata": {},
     "output_type": "execute_result"
    }
   ],
   "source": [
    "age_cols = ['age_0_to_17', 'age_18_to_44', 'age_45_to_64', 'age_65_to_74', 'age_75_and_over']\n",
    "age_rows = age_cols\n",
    "age_labels = ['Age 0 to 17', '18 to 44', '45 to 64', '65 to 74', '75 and over']\n",
    "\n",
    "cases_count = cases_df.iloc[-1][age_cols].values.astype(int)\n",
    "cases_total = sum(cases_count)\n",
    "cases_pct = [int(round(x, 0)) for x in 100 * cases_count / cases_total]\n",
    "\n",
    "deaths_count = deaths_df.loc[age_rows]['total'].values\n",
    "deaths_total = sum(deaths_values)\n",
    "deaths_pct = [int(round(x, 0)) for x in 100 * deaths_count / deaths_total]\n",
    "\n",
    "cases_deaths_df = pd.DataFrame(\n",
    "    {'cases_count': cases_count, 'cases_pct': cases_pct, 'deaths_count': deaths_count, 'deaths_pct': deaths_pct},\n",
    "    index = age_labels\n",
    ")\n",
    "\n",
    "cases_deaths_df"
   ]
  },
  {
   "cell_type": "code",
   "execution_count": 53,
   "metadata": {},
   "outputs": [
    {
     "data": {
      "image/png": "[encoded data removed]",
      "text/plain": [
       "<Figure size 432x288 with 1 Axes>"
      ]
     },
     "metadata": {
      "needs_background": "light"
     },
     "output_type": "display_data"
    }
   ],
   "source": [
    "cols = ['cases_pct', 'deaths_pct']\n",
    "\n",
    "cases_deaths_df[cols].plot.bar(alpha=0.5, color=['C0', 'C3'], rot=0, width=0.7)\n",
    "\n",
    "plt.ylim(0, 60)\n",
    "plt.legend(loc='upper left')\n",
    "plt.show()"
   ]
  },
  {
   "cell_type": "code",
   "execution_count": 7,
   "metadata": {},
   "outputs": [],
   "source": [
    "# Save figure as SVG and PNG images\n",
    "file_path = '../images/nyc-covid-19-cases-deaths-by-age-group'\n",
    "fig.savefig(file_path + '.svg')\n",
    "fig.savefig(file_path + '.png', dpi=200)"
   ]
  },
  {
   "cell_type": "code",
   "execution_count": null,
   "metadata": {},
   "outputs": [],
   "source": []
  }
 ],
 "metadata": {
  "kernelspec": {
   "display_name": "Python 3",
   "language": "python",
   "name": "python3"
  },
  "language_info": {
   "codemirror_mode": {
    "name": "ipython",
    "version": 3
   },
   "file_extension": ".py",
   "mimetype": "text/x-python",
   "name": "python",
   "nbconvert_exporter": "python",
   "pygments_lexer": "ipython3",
   "version": "3.7.6"
  }
 },
 "nbformat": 4,
 "nbformat_minor": 4
}
